{
  "nbformat": 4,
  "nbformat_minor": 0,
  "metadata": {
    "colab": {
      "name": "Quartile_deviation.ipynb",
      "provenance": []
    },
    "kernelspec": {
      "name": "python3",
      "display_name": "Python 3"
    },
    "language_info": {
      "name": "python"
    }
  },
  "cells": [
    {
      "cell_type": "code",
      "metadata": {
        "colab": {
          "base_uri": "https://localhost:8080/"
        },
        "id": "1FJO2X4lba2l",
        "outputId": "328065d3-73a5-4b96-e555-ab267befdb5c"
      },
      "source": [
        "import numpy as np\n",
        "data = list(range(20, 100, 5))\n",
        "print(data)\n",
        "\n",
        "Q1 = np.quantile(data, 0.25)\n",
        "Q2 = np.quantile(data, 0.50)\n",
        "Q3 = np.quantile(data, 0.75)\n",
        "\n",
        "print(\"Quartile 1 : \", Q1)\n",
        "print(\"Quartile 2 : \", Q2)\n",
        "print(\"Quartile 3 : \", Q3)\n",
        "\n",
        "def QuartileDeviation(a, b):\n",
        "    return (a - b)/2\n",
        "print(QuartileDeviation(Q3, Q1))"
      ],
      "execution_count": 1,
      "outputs": [
        {
          "output_type": "stream",
          "text": [
            "[20, 25, 30, 35, 40, 45, 50, 55, 60, 65, 70, 75, 80, 85, 90, 95]\n",
            "Quartile 1 :  38.75\n",
            "Quartile 2 :  57.5\n",
            "Quartile 3 :  76.25\n",
            "18.75\n"
          ],
          "name": "stdout"
        }
      ]
    }
  ]
}